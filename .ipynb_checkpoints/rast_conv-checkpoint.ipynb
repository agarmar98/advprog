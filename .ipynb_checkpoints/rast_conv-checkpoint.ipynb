{
 "cells": [
  {
   "cell_type": "code",
   "execution_count": 2,
   "id": "536232b9-614a-437b-94e4-39404a41abb5",
   "metadata": {},
   "outputs": [],
   "source": [
    "import os\n",
    "import getpass\n",
    "\n",
    "usuario = getpass.getuser()\n",
    "\n",
    "# os.environ['GDAL_DATA'] = f'/opt/anaconda3/envs/geoenv/share/gdal'\n",
    "# os.environ['PROJ_LIB'] = f'/opt/anaconda3/envs/geoenv/share'\n",
    "\n",
    "# en windows\n",
    "os.environ['GDAL_DATA'] = f'C:\\\\Users\\\\{usuario}\\\\anaconda3\\\\envs\\\\advprog12\\\\Library\\\\share\\\\gdal'\n",
    "os.environ['PROJ_LIB'] = f'C:\\\\Users\\\\{usuario}\\\\anaconda3\\\\envs\\\\advprog12\\\\Library\\\\share\\\\proj'"
   ]
  },
  {
   "cell_type": "code",
   "execution_count": 3,
   "id": "4b2533fe-7fa4-446a-9288-e53f3e14a6a1",
   "metadata": {},
   "outputs": [],
   "source": [
    "import sys\n",
    "\n",
    "#sys.argv[1] = \"C:\\\\Users\\\\angel\\\\Documents\\\\Programacion_avanzada\\\\practicas\\\\Geodatos\\\\\" #Ángel\n",
    "sys.argv[1] = \"E:\\\\advprog\\\\p1\\\\Geodatos\\\\\" #Edu\n",
    "\n",
    "euc_points = sys.argv[1] + \"eucaliptos_españa_puntos\\\\eucalyptus_points.csv\"\n",
    "euc_mfe = sys.argv[1] + \"Eucaliptales_Cornisa_Cantabrica\\\\Eucaliptales_Cornisa_Cantabrica.shp\"\n"
   ]
  },
  {
   "cell_type": "code",
   "execution_count": 4,
   "id": "46efdc61-2a27-4a27-bb8c-5d97f045dcb5",
   "metadata": {},
   "outputs": [],
   "source": [
    "import rasterio\n",
    "import glob\n",
    "import numpy as np\n",
    "from rasterio.merge import merge\n",
    "from rasterio.enums import Resampling"
   ]
  },
  {
   "cell_type": "markdown",
   "id": "bdea3de0-9128-4ea8-b9f5-74769accd8cc",
   "metadata": {},
   "source": [
    "La siguiente celda genera una lista con las rutas de nuestras 4 imagenes que queremos transformar a multibanda."
   ]
  },
  {
   "cell_type": "code",
   "execution_count": 5,
   "id": "6eb7173d-3360-4ddc-9a49-51927fc6cf14",
   "metadata": {},
   "outputs": [
    {
     "data": {
      "text/plain": [
       "['S2C_MSIL2A_20250219T111131_N0511_R137_T30TUN_20250219T152713.SAFE\\\\GRANULE\\\\L2A_T30TUN_A002395_20250219T111258\\\\IMG_DATA\\\\R20m',\n",
       " 'S2C_MSIL2A_20250219T111131_N0511_R137_T30TUP_20250219T152713.SAFE\\\\GRANULE\\\\L2A_T30TUP_A002395_20250219T111258\\\\IMG_DATA\\\\R20m',\n",
       " 'S2C_MSIL2A_20250219T111131_N0511_R137_T30TVN_20250219T152713.SAFE\\\\GRANULE\\\\L2A_T30TVN_A002395_20250219T111258\\\\IMG_DATA\\\\R20m',\n",
       " 'S2C_MSIL2A_20250219T111131_N0511_R137_T30TVP_20250219T152713.SAFE\\\\GRANULE\\\\L2A_T30TVP_A002395_20250219T111258\\\\IMG_DATA\\\\R20m']"
      ]
     },
     "execution_count": 5,
     "metadata": {},
     "output_type": "execute_result"
    }
   ],
   "source": [
    "#ruta1 = input(\"Introduzca la rutas de la carpeta que contiene las bandas en orden:\")\n",
    "#ruta2 = input(\"Introduzca la rutas de la carpeta que contiene las bandas en orden:\")\n",
    "#ruta3 = input(\"Introduzca la rutas de la carpeta que contiene las bandas en orden:\")\n",
    "#ruta4 = input(\"Introduzca la rutas de la carpeta que contiene las bandas en orden:\")\n",
    "ruta1 = \"S2C_MSIL2A_20250219T111131_N0511_R137_T30TUN_20250219T152713.SAFE\\\\GRANULE\\\\L2A_T30TUN_A002395_20250219T111258\\\\IMG_DATA\\\\R20m\"\n",
    "ruta2 = \"S2C_MSIL2A_20250219T111131_N0511_R137_T30TUP_20250219T152713.SAFE\\\\GRANULE\\\\L2A_T30TUP_A002395_20250219T111258\\\\IMG_DATA\\\\R20m\"\n",
    "ruta3 = \"S2C_MSIL2A_20250219T111131_N0511_R137_T30TVN_20250219T152713.SAFE\\\\GRANULE\\\\L2A_T30TVN_A002395_20250219T111258\\\\IMG_DATA\\\\R20m\"\n",
    "ruta4 = \"S2C_MSIL2A_20250219T111131_N0511_R137_T30TVP_20250219T152713.SAFE\\\\GRANULE\\\\L2A_T30TVP_A002395_20250219T111258\\\\IMG_DATA\\\\R20m\"\n",
    "rutas = []\n",
    "rutas.append(ruta1)\n",
    "rutas.append(ruta2)\n",
    "rutas.append(ruta3)\n",
    "rutas.append(ruta4)\n",
    "rutas"
   ]
  },
  {
   "cell_type": "markdown",
   "id": "263e01dd-fd4c-40de-9159-98a33e65a69f",
   "metadata": {},
   "source": [
    "El siguiente genera las 4 imagenes en las distintas rutas."
   ]
  },
  {
   "cell_type": "code",
   "execution_count": 5,
   "id": "f2da950a-1d7c-4bed-9b50-c9e5daf02036",
   "metadata": {},
   "outputs": [
    {
     "name": "stdout",
     "output_type": "stream",
     "text": [
      "Archivo guardado en: E:\\advprog\\p1\\Geodatos\\imagenes/S2C_MSIL2A_20250219T111131_N0511_R137_T30TUN_20250219T152713.SAFE\\GRANULE\\L2A_T30TUN_A002395_20250219T111258\\IMG_DATA\\R20m/salida/imagen_combinada_1.tif\n",
      "Archivo guardado en: E:\\advprog\\p1\\Geodatos\\imagenes/S2C_MSIL2A_20250219T111131_N0511_R137_T30TUP_20250219T152713.SAFE\\GRANULE\\L2A_T30TUP_A002395_20250219T111258\\IMG_DATA\\R20m/salida/imagen_combinada_2.tif\n",
      "Archivo guardado en: E:\\advprog\\p1\\Geodatos\\imagenes/S2C_MSIL2A_20250219T111131_N0511_R137_T30TVN_20250219T152713.SAFE\\GRANULE\\L2A_T30TVN_A002395_20250219T111258\\IMG_DATA\\R20m/salida/imagen_combinada_3.tif\n",
      "Archivo guardado en: E:\\advprog\\p1\\Geodatos\\imagenes/S2C_MSIL2A_20250219T111131_N0511_R137_T30TVP_20250219T152713.SAFE\\GRANULE\\L2A_T30TVP_A002395_20250219T111258\\IMG_DATA\\R20m/salida/imagen_combinada_4.tif\n"
     ]
    }
   ],
   "source": [
    "salidas_raster = []\n",
    "for i, ruta in enumerate(rutas):\n",
    "    raster_files = sorted(glob.glob(sys.argv[1] + \"imagenes/\" + ruta + \"/*.jp2\"))\n",
    "    \n",
    "    if not raster_files:\n",
    "        print(f\"No se encontraron archivos en {ruta}\")\n",
    "        continue\n",
    "    \n",
    "    bands = []\n",
    "    with rasterio.open(raster_files[0]) as src:\n",
    "        meta = src.meta.copy()\n",
    "        meta.update({\"count\": len(raster_files), \"driver\": \"GTiff\"})\n",
    "    \n",
    "    for file in raster_files:\n",
    "        with rasterio.open(file) as src:\n",
    "            bands.append(src.read(1))\n",
    "    \n",
    "    stacked_array = np.stack(bands)\n",
    "    output_tif = sys.argv[1] + \"imagenes/\" + ruta + \"/salida/imagen_combinada_\" + str(i+1) + \".tif\"\n",
    "    \n",
    "    with rasterio.open(output_tif, \"w\", **meta) as dst:\n",
    "        for j in range(stacked_array.shape[0]):\n",
    "            dst.write(stacked_array[j], j + 1)\n",
    "    salidas_raster.append(output_tif)\n",
    "    print(f\"Archivo guardado en: {output_tif}\")\n"
   ]
  },
  {
   "cell_type": "markdown",
   "id": "cfcf8753-3220-4105-ba09-c980df38dee3",
   "metadata": {},
   "source": [
    "Ahora quedaría hacer el mosaico. He pensado que se puede hacer lo mismo para las rutas,\n",
    "o en el bucle anterior una modificacion para que añada la ruta a otra lista. Lo haré en otro momentou"
   ]
  },
  {
   "cell_type": "code",
   "execution_count": 6,
   "id": "70ab45ac-b926-4fcb-b559-9f4738b3658b",
   "metadata": {},
   "outputs": [
    {
     "data": {
      "text/plain": [
       "['E:\\\\advprog\\\\p1\\\\Geodatos\\\\imagenes/S2C_MSIL2A_20250219T111131_N0511_R137_T30TUN_20250219T152713.SAFE\\\\GRANULE\\\\L2A_T30TUN_A002395_20250219T111258\\\\IMG_DATA\\\\R20m/salida/imagen_combinada_1.tif',\n",
       " 'E:\\\\advprog\\\\p1\\\\Geodatos\\\\imagenes/S2C_MSIL2A_20250219T111131_N0511_R137_T30TUP_20250219T152713.SAFE\\\\GRANULE\\\\L2A_T30TUP_A002395_20250219T111258\\\\IMG_DATA\\\\R20m/salida/imagen_combinada_2.tif',\n",
       " 'E:\\\\advprog\\\\p1\\\\Geodatos\\\\imagenes/S2C_MSIL2A_20250219T111131_N0511_R137_T30TVN_20250219T152713.SAFE\\\\GRANULE\\\\L2A_T30TVN_A002395_20250219T111258\\\\IMG_DATA\\\\R20m/salida/imagen_combinada_3.tif',\n",
       " 'E:\\\\advprog\\\\p1\\\\Geodatos\\\\imagenes/S2C_MSIL2A_20250219T111131_N0511_R137_T30TVP_20250219T152713.SAFE\\\\GRANULE\\\\L2A_T30TVP_A002395_20250219T111258\\\\IMG_DATA\\\\R20m/salida/imagen_combinada_4.tif']"
      ]
     },
     "execution_count": 6,
     "metadata": {},
     "output_type": "execute_result"
    }
   ],
   "source": [
    "salidas_raster"
   ]
  },
  {
   "cell_type": "markdown",
   "id": "ddf2751e-b983-496e-b456-3a4e09b0ab2d",
   "metadata": {},
   "source": [
    "Las rutas se añaden al objeto \"salidas raster\""
   ]
  },
  {
   "cell_type": "code",
   "execution_count": 9,
   "id": "1ff26e50-a984-40f5-806e-fe62829d2e1a",
   "metadata": {},
   "outputs": [
    {
     "name": "stdout",
     "output_type": "stream",
     "text": [
      "Mosaico guardado en: E:\\advprog\\p1\\Geodatos\\imagenes\\mosaico.tif\n"
     ]
    }
   ],
   "source": [
    "from rasterio.merge import merge\n",
    "\n",
    "# Abrimos los archivos de salida\n",
    "src_files_to_mosaic = [rasterio.open(file) for file in salidas_raster]\n",
    "\n",
    "# juntamos las imagnees con merge\n",
    "mosaic, out_transform = merge(src_files_to_mosaic, method=\"first\")  # \"first\" prioriza el primer píxel encontrado\n",
    "\n",
    "# copiamos los metadatos\n",
    "out_meta = src_files_to_mosaic[0].meta.copy()\n",
    "out_meta.update({\n",
    "    \"height\": mosaic.shape[1],  \n",
    "    \"width\": mosaic.shape[2],   \n",
    "    \"transform\": out_transform  \n",
    "})\n",
    "\n",
    "# Guardar la imagen final\n",
    "output_tif = sys.argv[1] + \"imagenes\\\\mosaico.tif\"\n",
    "with rasterio.open(output_tif, \"w\", **out_meta) as dest:\n",
    "    for i in range(mosaic.shape[0]):  # (Para mantener el orden de las bandas)\n",
    "        dest.write(mosaic[i], i + 1)\n",
    "\n",
    "print(f\"Mosaico guardado en: {output_tif}\")\n",
    "\n",
    "# Y cerrar los rasters\n",
    "for src in src_files_to_mosaic:\n",
    "    src.close()\n"
   ]
  },
  {
   "cell_type": "code",
   "execution_count": 9,
   "id": "9dc62aa7-7580-41c4-a9dd-d259143671b9",
   "metadata": {},
   "outputs": [
    {
     "name": "stdout",
     "output_type": "stream",
     "text": [
      "✅ Recorte guardado en: E:\\advprog\\p1\\Geodatos\\resultados\\recorte_final.tif\n"
     ]
    }
   ],
   "source": [
    "import rasterio\n",
    "import geopandas as gpd\n",
    "from rasterio.mask import mask\n",
    "from shapely.geometry import mapping\n",
    "\n",
    "# rutas\n",
    "output_tif = sys.argv[1] + \"imagenes\\\\mosaico.tif\"\n",
    "shapefile_path = sys.argv[1] + \"shp_cantabria\\\\cantabria.shp\"\n",
    "output_path = sys.argv[1] + \"resultados\\\\recorte_final.tif\"\n",
    "\n",
    "\n",
    "# Cargar shapefile\n",
    "shapefile = gpd.read_file(shapefile_path)\n",
    "\n",
    "# Abrir el ráster para obtener su SRC\n",
    "with rasterio.open(output_tif) as src:\n",
    "    raster_crs = src.crs  # Obtener CRS del ráster\n",
    "\n",
    "# Reproyección del shapefile al SRC del ráster si fuera necesario (en este caso lo es)\n",
    "if shapefile.crs != raster_crs:\n",
    "    shapefile = shapefile.to_crs(raster_crs)\n",
    "\n",
    "# Convertir geometría a formato GeoJSON (con shapely)\n",
    "geometries = [mapping(geom) for geom in shapefile.geometry]\n",
    "\n",
    "# Abrir el ráster y recortar\n",
    "with rasterio.open(output_tif) as src:\n",
    "    out_image, out_transform = mask(src, geometries, crop=True, all_touched=True)\n",
    "\n",
    "    out_meta = src.meta.copy()\n",
    "    out_meta.update({\n",
    "        \"driver\": \"GTiff\",\n",
    "        \"height\": out_image.shape[1],\n",
    "        \"width\": out_image.shape[2],\n",
    "        \"transform\": out_transform\n",
    "    })\n",
    "\n",
    "    # Guardar el nuevo ráster\n",
    "    with rasterio.open(output_path, \"w\", **out_meta) as dest:\n",
    "        dest.write(out_image)\n",
    "\n",
    "print(f\"✅ Recorte guardado en: {output_path}\")"
   ]
  },
  {
   "cell_type": "code",
   "execution_count": null,
   "id": "063e9805-cbf8-4301-a14f-0c943c16ca7e",
   "metadata": {},
   "outputs": [],
   "source": []
  }
 ],
 "metadata": {
  "kernelspec": {
   "display_name": "Python 3 (ipykernel)",
   "language": "python",
   "name": "python3"
  },
  "language_info": {
   "codemirror_mode": {
    "name": "ipython",
    "version": 3
   },
   "file_extension": ".py",
   "mimetype": "text/x-python",
   "name": "python",
   "nbconvert_exporter": "python",
   "pygments_lexer": "ipython3",
   "version": "3.9.21"
  }
 },
 "nbformat": 4,
 "nbformat_minor": 5
}
