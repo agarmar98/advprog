{
 "cells": [
  {
   "cell_type": "markdown",
   "id": "47e41d93-9bc8-49a2-879c-6ea737a84f38",
   "metadata": {},
   "source": [
    "### Proyecto Programación Avanzada: \n",
    "## Práctica 1, EDA eucaliptos en Cantabria"
   ]
  },
  {
   "cell_type": "markdown",
   "id": "a14203ff-9fe8-4d2c-a793-bc4fb8f94cb2",
   "metadata": {},
   "source": [
    "En esta práctica vamos a realizar un análisis exploratorio de datos para el género de eucaliptos, debido a que son una especie invasora en la península."
   ]
  },
  {
   "cell_type": "code",
   "execution_count": null,
   "id": "667a824b-10e9-41bd-a212-9d914b347056",
   "metadata": {},
   "outputs": [],
   "source": []
  }
 ],
 "metadata": {
  "kernelspec": {
   "display_name": "Python 3 (ipykernel)",
   "language": "python",
   "name": "python3"
  },
  "language_info": {
   "codemirror_mode": {
    "name": "ipython",
    "version": 3
   },
   "file_extension": ".py",
   "mimetype": "text/x-python",
   "name": "python",
   "nbconvert_exporter": "python",
   "pygments_lexer": "ipython3",
   "version": "3.9.21"
  }
 },
 "nbformat": 4,
 "nbformat_minor": 5
}
