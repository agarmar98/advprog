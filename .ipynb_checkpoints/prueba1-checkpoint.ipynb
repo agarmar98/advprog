{
 "cells": [
  {
   "cell_type": "code",
   "execution_count": 1,
   "id": "3ef6bd5b-a056-497c-a8b9-df777eda93ff",
   "metadata": {},
   "outputs": [
    {
     "name": "stdout",
     "output_type": "stream",
     "text": [
      "hello\n"
     ]
    }
   ],
   "source": [
    "print(\"hello\")"
   ]
  },
  {
   "cell_type": "code",
   "execution_count": null,
   "id": "1d3895f5-171e-494c-80fe-5cc1d0404522",
   "metadata": {},
   "outputs": [],
   "source": [
    "Tonterías para probar"
   ]
  },
  {
   "cell_type": "code",
   "execution_count": null,
   "id": "cfa0262c-99a6-4763-9f32-584be8081908",
   "metadata": {},
   "outputs": [],
   "source": [
    "import ga ga ga"
   ]
  }
 ],
 "metadata": {
  "kernelspec": {
   "display_name": "python (advprog)",
   "language": "python",
   "name": "advprog"
  },
  "language_info": {
   "codemirror_mode": {
    "name": "ipython",
    "version": 3
   },
   "file_extension": ".py",
   "mimetype": "text/x-python",
   "name": "python",
   "nbconvert_exporter": "python",
   "pygments_lexer": "ipython3",
   "version": "3.9.21"
  }
 },
 "nbformat": 4,
 "nbformat_minor": 5
}
