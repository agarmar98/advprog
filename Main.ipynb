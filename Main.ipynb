{
 "cells": [
  {
   "cell_type": "markdown",
   "id": "5dedc0d1-0e1a-4c31-9564-7a91d5e05659",
   "metadata": {},
   "source": [
    "### Análisis Exploratorio de Datos: Eucaliptos en Cantabria\n",
    "\n",
    "En el siguiente trabajo, se presenta la distribución de eucaliptos en la región de Cantabria, España."
   ]
  },
  {
   "cell_type": "code",
   "execution_count": null,
   "id": "5e10d13a-717b-4187-9aa9-b3f1209e3757",
   "metadata": {},
   "outputs": [],
   "source": [
    "import geopandas as gp\n",
    "import"
   ]
  }
 ],
 "metadata": {
  "kernelspec": {
   "display_name": "python (advprog)",
   "language": "python",
   "name": "advprog"
  },
  "language_info": {
   "codemirror_mode": {
    "name": "ipython",
    "version": 3
   },
   "file_extension": ".py",
   "mimetype": "text/x-python",
   "name": "python",
   "nbconvert_exporter": "python",
   "pygments_lexer": "ipython3",
   "version": "3.9.21"
  }
 },
 "nbformat": 4,
 "nbformat_minor": 5
}
