{
 "cells": [
  {
   "cell_type": "markdown",
   "id": "5dedc0d1-0e1a-4c31-9564-7a91d5e05659",
   "metadata": {},
   "source": [
    "### Análisis Exploratorio de Datos: Eucaliptos en Cantabria\n",
    "\n",
    "en el siguiente trabajo, se presenta la distri"
   ]
  }
 ],
 "metadata": {
  "kernelspec": {
   "display_name": "python (advprog)",
   "language": "python",
   "name": "advprog"
  },
  "language_info": {
   "codemirror_mode": {
    "name": "ipython",
    "version": 3
   },
   "file_extension": ".py",
   "mimetype": "text/x-python",
   "name": "python",
   "nbconvert_exporter": "python",
   "pygments_lexer": "ipython3",
   "version": "3.9.21"
  }
 },
 "nbformat": 4,
 "nbformat_minor": 5
}
